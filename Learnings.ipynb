{
 "cells": [
  {
   "cell_type": "code",
   "execution_count": 27,
   "id": "f64f585c-c944-4577-b2e9-cb3ebf0f4998",
   "metadata": {},
   "outputs": [],
   "source": [
    "import pandas as pd\n",
    "import numpy as np\n",
    "\n",
    "data_2024 = pd.read_csv('../Files/DATA.csv')\n",
    "data_2023 = pd.read_csv('../Files/DATA-2023.csv')\n",
    "\n",
    "def getBrand(brandName):\n",
    "    if brandName == 'HRX by Hrithik Roshan' or brandName == 'HRX':\n",
    "        return 'HRX'\n",
    "    else:\n",
    "        return 'BU'\n",
    "\n",
    "data_2024['brandMapping'] = data_2024['master_brand'].apply( getBrand )\n",
    "data_2023['brandMapping'] = data_2023['master_brand'].apply( getBrand )\n",
    "data_2024_CW['brandMapping'] = data_2024_CW['master_brand'].apply( getBrand )\n",
    "################################################################\n",
    "def royaltyClean(royalty):\n",
    "    if pd.isnull(royalty) == True:\n",
    "        return 0\n",
    "    else:\n",
    "        return royalty\n",
    "\n",
    "data_2024['royalty'] = data_2024['royalty'].apply(royaltyClean)\n",
    "data_2023['royalty'] = data_2023['royalty'].apply(royaltyClean)\n",
    "################################################################"
   ]
  },
  {
   "cell_type": "code",
   "execution_count": 39,
   "id": "b94ccf78-0678-44db-97f8-0ad1e3f2dc99",
   "metadata": {},
   "outputs": [],
   "source": [
    "styles = pd.read_csv('../Files/styles.csv')"
   ]
  },
  {
   "cell_type": "code",
   "execution_count": null,
   "id": "9b2c7c00-9a37-47af-9586-ad5992fb5949",
   "metadata": {},
   "outputs": [],
   "source": [
    "df_2024['VAN'] = "
   ]
  },
  {
   "cell_type": "code",
   "execution_count": 32,
   "id": "0c1dfe1b-c87d-461d-85e4-81da328905ff",
   "metadata": {},
   "outputs": [
    {
     "name": "stderr",
     "output_type": "stream",
     "text": [
      "C:\\Users\\kunaljain.vc\\AppData\\Local\\Temp\\ipykernel_4664\\2522205142.py:1: FutureWarning: The provided callable <function sum at 0x0000029055AE5D00> is currently using DataFrameGroupBy.sum. In a future version of pandas, the provided callable will be used directly. To keep current behavior pass the string \"sum\" instead.\n",
      "  df_2024 = pd.pivot_table( data_2024, index=['brandMapping','gender','article_type','style_id','mrp'], values=['revenue','quantity','tot_mrp','purchase_price','tax','royalty'],\n",
      "C:\\Users\\kunaljain.vc\\AppData\\Local\\Temp\\ipykernel_4664\\2522205142.py:4: FutureWarning: The provided callable <function sum at 0x0000029055AE5D00> is currently using DataFrameGroupBy.sum. In a future version of pandas, the provided callable will be used directly. To keep current behavior pass the string \"sum\" instead.\n",
      "  df_2023 = pd.pivot_table( data_2023, index=['brandMapping','gender','article_type','style_id','mrp'], values=['revenue','quantity','tot_mrp','purchase_price','tax','royalty'],\n",
      "C:\\Users\\kunaljain.vc\\AppData\\Local\\Temp\\ipykernel_4664\\2522205142.py:8: FutureWarning: The provided callable <function sum at 0x0000029055AE5D00> is currently using DataFrameGroupBy.sum. In a future version of pandas, the provided callable will be used directly. To keep current behavior pass the string \"sum\" instead.\n",
      "  df_2024_CW = pd.pivot_table( data_2024_CW, index=['brandMapping','gender','article_type','style_id','mrp'], values=['revenue','quantity','tot_mrp','purchase_price','tax','royalty'],\n"
     ]
    }
   ],
   "source": [
    "df_2024 = pd.pivot_table( data_2024, index=['brandMapping','gender','article_type','style_id','mrp'], values=['revenue','quantity','tot_mrp','purchase_price','tax','royalty'],\n",
    "                                                             aggfunc=np.sum )\n",
    "\n",
    "df_2023 = pd.pivot_table( data_2023, index=['brandMapping','gender','article_type','style_id','mrp'], values=['revenue','quantity','tot_mrp','purchase_price','tax','royalty'],\n",
    "                                                             aggfunc=np.sum )\n",
    "\n"
   ]
  },
  {
   "cell_type": "code",
   "execution_count": 26,
   "id": "34a15190-6cac-461d-ada3-dc38df837da8",
   "metadata": {},
   "outputs": [],
   "source": [
    "df_2023.to_excel('DATA-2023.xlsx')\n",
    "df_2024.to_excel('DATA-2023.xlsx')"
   ]
  },
  {
   "cell_type": "code",
   "execution_count": null,
   "id": "bf15f062-7a31-4349-ac79-72ee87afa325",
   "metadata": {},
   "outputs": [
    {
     "name": "stderr",
     "output_type": "stream",
     "text": [
      "C:\\Users\\kunaljain.vc\\AppData\\Local\\Programs\\Python\\Python313\\Lib\\site-packages\\openpyxl\\styles\\stylesheet.py:237: UserWarning: Workbook contains no default style, apply openpyxl's default\n",
      "  warn(\"Workbook contains no default style, apply openpyxl's default\")\n",
      "C:\\Users\\kunaljain.vc\\AppData\\Local\\Programs\\Python\\Python313\\Lib\\site-packages\\openpyxl\\styles\\stylesheet.py:237: UserWarning: Workbook contains no default style, apply openpyxl's default\n",
      "  warn(\"Workbook contains no default style, apply openpyxl's default\")\n"
     ]
    }
   ],
   "source": [
    "import pandas as pd\n",
    "shorts_1 = pd.read_excel('../LEARNINGS/SHORTS-1-4999-ATTRIBUTE SHEET.xlsx')\n",
    "shorts_2 = pd.read_excel('../LEARNINGS/SHORTS-5000-END-ATTRIBUTE SHEET.xlsx')\n",
    "shorts = shorts_1.concat(shorts_2, axis=0, ignore_index=False)\n",
    "len(shorts)"
   ]
  }
 ],
 "metadata": {
  "kernelspec": {
   "display_name": "Python 3 (ipykernel)",
   "language": "python",
   "name": "python3"
  },
  "language_info": {
   "codemirror_mode": {
    "name": "ipython",
    "version": 3
   },
   "file_extension": ".py",
   "mimetype": "text/x-python",
   "name": "python",
   "nbconvert_exporter": "python",
   "pygments_lexer": "ipython3",
   "version": "3.13.1"
  }
 },
 "nbformat": 4,
 "nbformat_minor": 5
}
